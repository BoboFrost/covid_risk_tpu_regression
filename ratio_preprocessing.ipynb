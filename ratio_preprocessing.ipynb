{
 "cells": [
  {
   "cell_type": "code",
   "execution_count": 25,
   "metadata": {},
   "outputs": [
    {
     "ename": "ModuleNotFoundError",
     "evalue": "No module named 'shap'",
     "output_type": "error",
     "traceback": [
      "\u001b[1;31m---------------------------------------------------------------------------\u001b[0m",
      "\u001b[1;31mModuleNotFoundError\u001b[0m                       Traceback (most recent call last)",
      "\u001b[1;32mUntitled-2.ipynb Cell 1'\u001b[0m in \u001b[0;36m<cell line: 5>\u001b[1;34m()\u001b[0m\n\u001b[0;32m      <a href='vscode-notebook-cell:Untitled-2.ipynb?jupyter-notebook#ch0000000untitled?line=2'>3</a>\u001b[0m \u001b[39mimport\u001b[39;00m \u001b[39mmatplotlib\u001b[39;00m\u001b[39m.\u001b[39;00m\u001b[39mpyplot\u001b[39;00m \u001b[39mas\u001b[39;00m \u001b[39mplt\u001b[39;00m\n\u001b[0;32m      <a href='vscode-notebook-cell:Untitled-2.ipynb?jupyter-notebook#ch0000000untitled?line=3'>4</a>\u001b[0m \u001b[39mfrom\u001b[39;00m \u001b[39mscipy\u001b[39;00m \u001b[39mimport\u001b[39;00m stats\n\u001b[1;32m----> <a href='vscode-notebook-cell:Untitled-2.ipynb?jupyter-notebook#ch0000000untitled?line=4'>5</a>\u001b[0m \u001b[39mimport\u001b[39;00m \u001b[39mshap\u001b[39;00m\n",
      "\u001b[1;31mModuleNotFoundError\u001b[0m: No module named 'shap'"
     ]
    }
   ],
   "source": [
    "import pandas as pd\n",
    "import numpy as np\n",
    "import matplotlib.pyplot as plt\n",
    "from scipy import stats\n",
    "import shap\n",
    "#import seaborn as sns"
   ]
  },
  {
   "cell_type": "markdown",
   "metadata": {},
   "source": [
    "# Normalize population data"
   ]
  },
  {
   "cell_type": "code",
   "execution_count": 17,
   "metadata": {},
   "outputs": [],
   "source": [
    "tpu_count = pd.read_csv('F:\\python\\TPU_data\\covid_TPU_count_selected_with_area.csv', index_col=0)"
   ]
  },
  {
   "cell_type": "code",
   "execution_count": 18,
   "metadata": {},
   "outputs": [
    {
     "name": "stdout",
     "output_type": "stream",
     "text": [
      "['Male' 'Female' '< 15 ' '15 - 24' '25 - 44' '45 - 64' '65+ '\n",
      " 'Public rental housing' 'Subsidised home ownership housing'\n",
      " 'Private permanent housing' 'Non-domestic housing' 'Temporary housing'\n",
      " '1' '2' '3' '4' '5' '6 and over' 'Without exclusively used rooms'\n",
      " 'Less than 6,000' '6,000 - 9,999' '10,000 - 19,999' '20,000 - 29,999'\n",
      " '30,000 - 39,999' '40,000 - 59,999' '60,000 and over'\n",
      " 'Work in the same district(5)'\n",
      " 'Work in another district on Hong Kong Island'\n",
      " 'Work in another district in Kowloon'\n",
      " 'Work in another district in new towns'\n",
      " 'Work in another district in other areas in the New Territories'\n",
      " 'No fixed place/ Marine' 'Work at home' 'Places outside Hong Kong'\n",
      " 'Manufacturing' 'Construction'\n",
      " 'Import/export, wholesale and retail trades'\n",
      " 'Transportation, storage, postal and courier services'\n",
      " 'Accommodation and food services' 'Information and communications'\n",
      " 'Financing and insurance'\n",
      " 'Real estate, professional and business services'\n",
      " 'Public administration, education, human health and social work activities'\n",
      " 'Miscellaneous social and personal services' 'Others(8)']\n"
     ]
    }
   ],
   "source": [
    "features = tpu_count.columns[1:46].values\n",
    "print(features)"
   ]
  },
  {
   "cell_type": "code",
   "execution_count": 19,
   "metadata": {},
   "outputs": [],
   "source": [
    "tpu_count[features] = tpu_count[features].replace('-',int(0))"
   ]
  },
  {
   "cell_type": "code",
   "execution_count": 20,
   "metadata": {},
   "outputs": [
    {
     "name": "stdout",
     "output_type": "stream",
     "text": [
      "Male\n",
      "Female\n",
      "< 15 \n",
      "15 - 24\n",
      "25 - 44\n",
      "45 - 64\n",
      "65+ \n",
      "Public rental housing\n",
      "Subsidised home ownership housing\n",
      "Private permanent housing\n",
      "Non-domestic housing\n",
      "Temporary housing\n",
      "1\n",
      "2\n",
      "3\n",
      "4\n",
      "5\n",
      "6 and over\n",
      "Without exclusively used rooms\n",
      "Less than 6,000\n",
      "6,000 - 9,999\n",
      "10,000 - 19,999\n",
      "20,000 - 29,999\n",
      "30,000 - 39,999\n",
      "40,000 - 59,999\n",
      "60,000 and over\n",
      "Work in the same district(5)\n",
      "Work in another district on Hong Kong Island\n",
      "Work in another district in Kowloon\n",
      "Work in another district in new towns\n",
      "Work in another district in other areas in the New Territories\n",
      "No fixed place/ Marine\n",
      "Work at home\n",
      "Places outside Hong Kong\n",
      "Manufacturing\n",
      "Construction\n",
      "Import/export, wholesale and retail trades\n",
      "Transportation, storage, postal and courier services\n",
      "Accommodation and food services\n",
      "Information and communications\n",
      "Financing and insurance\n",
      "Real estate, professional and business services\n",
      "Public administration, education, human health and social work activities\n",
      "Miscellaneous social and personal services\n",
      "Others(8)\n"
     ]
    }
   ],
   "source": [
    "for feature in features:\n",
    "    print(i)\n",
    "    tpu_count[i] = tpu_count[i].astype(int)\n",
    "    tpu_count[i + '_ratio'] = tpu_count[i] / tpu_count['Total Population']"
   ]
  },
  {
   "cell_type": "code",
   "execution_count": 21,
   "metadata": {},
   "outputs": [],
   "source": [
    "tpu_count['Population Density'] = tpu_count['Total Population'] / tpu_count['area']\n",
    "tpu_count['Vulnerable population ratio'] = (tpu_count['< 15 '] + tpu_count['65+ ']) / tpu_count['Total Population']"
   ]
  },
  {
   "cell_type": "code",
   "execution_count": 22,
   "metadata": {},
   "outputs": [],
   "source": [
    "tpu_count.to_csv('F:\\python\\TPU_data\\covid_TPU_count_selected_normalized.csv')"
   ]
  },
  {
   "cell_type": "code",
   "execution_count": null,
   "metadata": {},
   "outputs": [],
   "source": []
  },
  {
   "cell_type": "markdown",
   "metadata": {},
   "source": [
    "## Select imported cases"
   ]
  }
 ],
 "metadata": {
  "interpreter": {
   "hash": "ecc3fb14eec47ce3b38295223d2b7ffb950419c2e2ecda515fbc9ce50d21ffe3"
  },
  "kernelspec": {
   "display_name": "Python 3",
   "language": "python",
   "name": "python3"
  },
  "language_info": {
   "codemirror_mode": {
    "name": "ipython",
    "version": 3
   },
   "file_extension": ".py",
   "mimetype": "text/x-python",
   "name": "python",
   "nbconvert_exporter": "python",
   "pygments_lexer": "ipython3",
   "version": "3.7.6"
  }
 },
 "nbformat": 4,
 "nbformat_minor": 2
}
